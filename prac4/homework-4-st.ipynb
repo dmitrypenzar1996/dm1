{
 "cells": [
  {
   "cell_type": "markdown",
   "metadata": {},
   "source": [
    "# Домашнее задание 4. Конструирование текстовых признаков из твитов пользователей"
   ]
  },
  {
   "cell_type": "markdown",
   "metadata": {},
   "source": [
    "## Сбор данных"
   ]
  },
  {
   "cell_type": "markdown",
   "metadata": {},
   "source": [
    "Первый этап - сбор твитов пользователей. Необходимо подключаться к Twitter API и запрашивать твиты по id пользователя. \n",
    "Подключение к API подробно описано в ДЗ 1."
   ]
  },
  {
   "cell_type": "code",
   "execution_count": 17,
   "metadata": {
    "collapsed": true
   },
   "outputs": [],
   "source": [
    "import twitter\n",
    "from itertools import ifilter, imap\n",
    "import sys\n",
    "from twitter.api import RateLimit, TwitterError\n",
    "from time import sleep\n",
    "import string\n",
    "from nltk.tokenize import TweetTokenizer\n",
    "from itertools import ifilter, imap\n",
    "from nltk.stem import WordNetLemmatizer\n",
    "from nltk.corpus import stopwords\n",
    "from collections import Counter\n",
    "import os\n",
    "import json\n",
    "import re\n",
    "import pandas as pd\n",
    "from collections import defaultdict\n",
    "import json\n",
    "from sklearn.feature_extraction import DictVectorizer\n",
    "from requests.exceptions import ConnectionError\n",
    "import matplotlib.pyplot as plt\n",
    "from wordcloud import WordCloud\n",
    "from scipy.misc import imread\n",
    "from time import time"
   ]
  },
  {
   "cell_type": "code",
   "execution_count": 18,
   "metadata": {
    "collapsed": false
   },
   "outputs": [],
   "source": [
    "\n",
    "CONSUMER_KEY = \"ugobTj1J8YbCQoyNrDIucjOPX\"\n",
    "CONSUMER_SECRET = \"eWBVA7VJfKYywSbAqe9tQJw50dHQvyLJCacFBoIs2dd2CkNTgY\"\n",
    "\n",
    "ACCESS_TOKEN_KEY = \"781167349399490562-WLDzou6ho6w8yVLTKbrEPT0bdq0wSfg\"\n",
    "ACCESS_TOKEN_SECRET = \"vrTd7102GIFrUAmNVHKJNn8wsqhGND2cTaaeKVjwsq8jO\"\n",
    "\n",
    "api = twitter.Api(consumer_key=CONSUMER_KEY, \n",
    "                  consumer_secret=CONSUMER_SECRET, \n",
    "                  access_token_key=ACCESS_TOKEN_KEY, \n",
    "                  access_token_secret=ACCESS_TOKEN_SECRET)"
   ]
  },
  {
   "cell_type": "markdown",
   "metadata": {},
   "source": [
    "Для получения твитов пользователя может быть использован метод GetUserTimeline из библиотеки python-twitter. Он позволяет получить не более 200 твитов пользователя. По каждому пользователю достаточно собрать 200 твитов.\n",
    "\n",
    "Метод имеет ограничение по количеству запросов в секунду. Для получения информации о промежутке времени, которое необходимо подождать для повторного обращения к API может быть использован метод `GetSleepTime`. Для получения информации об ограничениях запросов с помощью метода `GetUserTimeLine` необходимо вызывать `GetSleepTime` с параметром \"statuses/user_timeline\".\n",
    "\n",
    "Метод GetUserTimeline возвращает объекты типа Status. У этих объектов есть метод AsDict, который позволяет представить твит в виде словаря.\n",
    "\n",
    "Id пользователей необходимо считать из файла, как было сделано в ДЗ 1.\n",
    "\n",
    "Необходимо реализовать функцию `get_user_tweets(user_id)`. Входной параметр - id пользователя из файла. Возвращаемое значение - массив твитов пользователя, где каждый твит представлен в виде словаря. Предполагается, что информация о пользователе содержится в твитах, которые пользователь написал сам. Это означает, что можно попробовать отфильтровать ответы другим пользователям, ссылки и ретвиты, а так же картинки и видео, так как наша цель - найти текстовую информацию."
   ]
  },
  {
   "cell_type": "code",
   "execution_count": 30,
   "metadata": {
    "collapsed": true
   },
   "outputs": [],
   "source": [
    "#https://marcobonzanini.com/2015/03/09/mining-twitter-data-with-python-part-2/\n",
    "def getTrashRemover(remove_hash_tags= False, remove_hash_sign = False):\n",
    "    emoticons_str = r\"\"\"\n",
    "    (?:\n",
    "        [:=;] \n",
    "        [oO\\-]? \n",
    "        [D\\)\\]\\(\\]/\\\\OpP] \n",
    "    )\"\"\"\n",
    "    # Eyes # Nose (optional) # Mouth\n",
    "    regex_str = [\n",
    "        emoticons_str,\n",
    "        r'<[^>]+>', # HTML tags\n",
    "        r'(?:@[\\w_]+)\\:?', # @-mentions\n",
    "        r'http[s]?://(?:[a-z]|[0-9]|[$-_@.&amp;+]|[!*\\(\\),]|(?:%[0-9a-f][0-9a-f]))+', # URLs\n",
    "        r'(?:(?:\\d+,?)+(?:\\.?\\d+)?)' # numbers\n",
    "        #r'(?:\\S)' # anything else\n",
    "    ]\n",
    "    if remove_hash_tags:\n",
    "        regex_str.append( r\"(?:\\#+[\\w_]+[\\w\\'_\\-]*[\\w_]+)\")# hash-tags\n",
    "    elif remove_hash_sign:\n",
    "        regex_str.append(r\"\\#\")\n",
    "    def remove_url_and_users(text, trash = re.compile(r'('+'|'.join(regex_str)+')', \n",
    "                                                      flags = re.VERBOSE | re.IGNORECASE | re.UNICODE) ):\n",
    "        return trash.sub(\" \", text)\n",
    "\n",
    "    return remove_url_and_users\n",
    "\n",
    "\n",
    "def isUnofficialTweet(text, regex = re.compile(r\"\\s*RT\\s* \\@\", flags = re.VERBOSE | re.IGNORECASE | re.UNICODE)):\n",
    "    return True if regex.match(text) else False\n",
    "\n",
    "#http://stackoverflow.com/questions/29689566/exclude-retweets-from-twitter-streaming-api-using-tweepy\n"
   ]
  },
  {
   "cell_type": "code",
   "execution_count": 54,
   "metadata": {
    "collapsed": false
   },
   "outputs": [
    {
     "name": "stdout",
     "output_type": "stream",
     "text": [
      "EndpointRateLimit(limit=900, remaining=264, reset=1479685131)\n"
     ]
    }
   ],
   "source": [
    "remove_url_and_users = getTrashRemover()\n",
    "\n",
    "def calcLimit():\n",
    "    api.rate_limit = None\n",
    "    api.InitializeRateLimit()\n",
    "    print api.CheckRateLimit(\"/statuses/user_timeline\")\n",
    "    rg = api.CheckRateLimit(\"/statuses/user_timeline\").reset - time()\n",
    "    return rg + 1 if rg > 0 else 1\n",
    "\n",
    "calcLimit()\n",
    "\n",
    "def get_user_tweets(user_id, rmUnOfTweets = True):\n",
    "    \"\"\"returns iterator of tweets as dicts\"\"\"\n",
    "    try:\n",
    "        user_tweet_list = api.GetUserTimeline(user_id = user_id, count = 200, \n",
    "                            exclude_replies = True, include_rts = False)\n",
    "    except TwitterError as e:\n",
    "        if e.message == \"Exceeded connection limit for user\":\n",
    "            limit = calcLimit()\n",
    "            #sys.stderr.write(\"Have got error: '{}'.Waiting for {}\\n\".\\\n",
    "            #    format(e.message, limit))\n",
    "            sleep(limit)\n",
    "            user_tweet_list = api.GetUserTimeline(user_id = user_id, count = 200, \n",
    "                exclude_replies = True, include_rts = False)\n",
    "        elif e.message == \"Not authorized.\":\n",
    "            user_tweet_list = []\n",
    "            #sys.stderr.write(\"User is unathorized\\n\")\n",
    "        elif isinstance(e.message, list) and u\"message\" in e.message[0] and\\\n",
    "            e.message[0][u'message'] == u\"Sorry, that page does not exist.\": # RIP\n",
    "            user_tweet_list = []\n",
    "            #sys.stderr.write(\"User is not exist\\n\")\n",
    "        elif isinstance(e.message, list) and u\"message\" in e.message[0] and\\\n",
    "            e.message[0][u'message'] == u'Rate limit exceeded':\n",
    "            limit = calcLimit()\n",
    "            print api.rate_limit.get_limit(\"/statuses/user_timeline\")\n",
    "            #sys.stderr.write(\"Have got error: '{}'.Waiting for {}\\n\".\\\n",
    "            #    format(e.message, limit))\n",
    "            sleep(limit)\n",
    "            user_tweet_list = api.GetUserTimeline(user_id = user_id, count = 200, \n",
    "                exclude_replies = True, include_rts = False)\n",
    "        else:\n",
    "            #sys.stderr.write(\"Get unexpected Twitter error '{}'\\n\".\n",
    "            #                format(e.message))\n",
    "            raise TwitterError(e.message)\n",
    "    except ConnectionError as ce:\n",
    "        #sys.stderr(\"Possibly exceeded connection limit for user. \")\n",
    "        limit = calcLimit()\n",
    "        #sys.stderr.write(\"Waiting for {}\\n\".format(limit))\n",
    "        sleep(limit)\n",
    "        user_tweet_list = api.GetUserTimeline(user_id = user_id, count = 200, \n",
    "                exclude_replies = True, include_rts = False)    \n",
    "    if user_tweet_list:\n",
    "        user_tweet_list = ifilter(lambda x: x.lang == \"en\", user_tweet_list)\n",
    "        user_tweet_list = ifilter(lambda x : x.text.strip() != u\"\", user_tweet_list)\n",
    "        if rmUnOfTweets:\n",
    "            user_tweet_list = ifilter(lambda x : not isUnofficialTweet(x.text), user_tweet_list)\n",
    "        user_tweet_list = ( {'lang' : u'en',\n",
    "                        'favorited' : x.favorited,\n",
    "                        'trucated' : x.truncated,\n",
    "                        'text' : remove_url_and_users(x.text),\n",
    "                        'created_at' : x.created_at,\n",
    "                       'retweeted': x.retweeted,\n",
    "                        'source' : x.source,\n",
    "                        'user' : {'id' : x.user.id},\n",
    "                        'id' : x.id} for x in user_tweet_list)\n",
    "        user_tweet_list = ifilter(lambda x : x['text'].strip() != u\"\", user_tweet_list)\n",
    "    \n",
    "    return user_tweet_list"
   ]
  },
  {
   "cell_type": "markdown",
   "metadata": {},
   "source": [
    "## Разбор текста твита"
   ]
  },
  {
   "cell_type": "markdown",
   "metadata": {},
   "source": [
    "Обработка текста предполагает разбиение текста на отдельные элементы - параграфы, предложения, слова. Мы будем преобразовывать текст твита к словам. Для этого текст необходимо разбить на слова. Сделать это можно, например, с помощью регулярного выражения.\n",
    "\n",
    "\n",
    "Необходимо реализовать функцию, `get_words(text)`. Входной параметр - строка с текстом. Возвращаемое значение - массив строк (слов). Обратите внимание, что нужно учесть возможное наличие пунктуации и выделить по возможности только слова. "
   ]
  },
  {
   "cell_type": "code",
   "execution_count": 32,
   "metadata": {
    "collapsed": false
   },
   "outputs": [],
   "source": [
    "def remove_punctuation(text, regex = re.compile(r\"[^\\w-]|(?<!\\w)-(?!\\w)\", flags = re.VERBOSE | re.IGNORECASE | re.UNICODE)):\n",
    "    return regex.sub(\" \", text)\n",
    "\n",
    "def get_words(text,  tknzr = TweetTokenizer(preserve_case = False, strip_handles=True, reduce_len=False)):\n",
    "    \"\"\"returns iterator of words\"\"\"\n",
    "    return ifilter(lambda x : x != \":\", tknzr.tokenize(remove_punctuation(text)))\n",
    "    # : means, that twt substitute smth like @andrew by :\n",
    "\n",
    "    # your code here"
   ]
  },
  {
   "cell_type": "code",
   "execution_count": 33,
   "metadata": {
    "collapsed": false
   },
   "outputs": [
    {
     "name": "stdout",
     "output_type": "stream",
     "text": [
      "[u'here', u'are', u'different', u'words']\n"
     ]
    }
   ],
   "source": [
    "print list(get_words(\"Here are different words!\"))"
   ]
  },
  {
   "cell_type": "markdown",
   "metadata": {},
   "source": [
    "Далее полученные слова необходимо привести к нормальной форме. То есть привести их к форме единственного числа настоящего времени и пр. Сделать это можно с помощью библиотеки nltk. Информацию по загрузке, установке библиотеки и примерах использования можно найти на сайте http://www.nltk.org/\n",
    "\n",
    "Для загрузки всех необходимых словарей можно воспользоваться методом download из библиотеки nltk."
   ]
  },
  {
   "cell_type": "code",
   "execution_count": 34,
   "metadata": {
    "collapsed": false
   },
   "outputs": [],
   "source": [
    "import nltk\n",
    "#nltk.download()"
   ]
  },
  {
   "cell_type": "code",
   "execution_count": null,
   "metadata": {
    "collapsed": false
   },
   "outputs": [],
   "source": []
  },
  {
   "cell_type": "markdown",
   "metadata": {},
   "source": [
    "Для дальнейшей обработки слова должны быть приведены к нижнему регистру. \n",
    "\n",
    "Для приведения к нормальной форме можно использовать `WordNetLemmatizer` из библиотеки nltk. У этого класса есть метод `lemmatize`.\n",
    "\n",
    "Также необходимо убрать из текста так называемые стоп-слова. Это часто используемые слова, не несущие смысловой нагрузки для наших задач. Сделать это можно с помощью `stopwords` из nltk.corpus"
   ]
  },
  {
   "cell_type": "markdown",
   "metadata": {},
   "source": [
    "Необходимо реализовать функцию `get_tokens(words)`. Входной параметр - массив слов. Возвращаемое значение - массив токенов."
   ]
  },
  {
   "cell_type": "code",
   "execution_count": 35,
   "metadata": {
    "collapsed": false
   },
   "outputs": [],
   "source": [
    "## for correct lemmatizer work\n",
    "\n",
    "from nltk.corpus import brown\n",
    "brown_tagged_sents = brown.tagged_sents()\n",
    "brown_sents = brown.sents()\n",
    "unigram_tagger = nltk.UnigramTagger(brown_tagged_sents)"
   ]
  },
  {
   "cell_type": "code",
   "execution_count": 36,
   "metadata": {
    "collapsed": true
   },
   "outputs": [],
   "source": [
    "#http://stackoverflow.com/questions/25534214/nltk-wordnet-lemmatizer-shouldnt-it-lemmatize-all-inflections-of-a-word\n",
    "from nltk.corpus import wordnet as wn\n",
    "\n",
    "def is_noun(tag):\n",
    "    return tag in ['NN', 'NNS', 'NNP', 'NNPS']\n",
    "\n",
    "\n",
    "def is_verb(tag):\n",
    "    return tag in ['VB', 'VBD', 'VBG', 'VBN', 'VBP', 'VBZ']\n",
    "\n",
    "\n",
    "def is_adverb(tag):\n",
    "    return tag in ['RB', 'RBR', 'RBS']\n",
    "\n",
    "\n",
    "def is_adjective(tag):\n",
    "    return tag in ['JJ', 'JJR', 'JJS']\n",
    "\n",
    "\n",
    "def penn_to_wn(tag):\n",
    "    if is_adjective(tag):\n",
    "        return wn.ADJ\n",
    "    elif is_noun(tag):\n",
    "        return wn.NOUN\n",
    "    elif is_adverb(tag):\n",
    "        return wn.ADV\n",
    "    elif is_verb(tag):\n",
    "        return wn.VERB\n",
    "    return wn.NOUN # just to avoid raising error"
   ]
  },
  {
   "cell_type": "code",
   "execution_count": 37,
   "metadata": {
    "collapsed": false
   },
   "outputs": [],
   "source": [
    "from nltk import pos_tag\n",
    "from nltk.corpus import brown\n",
    "\n",
    "def get_tokens(words, stopwords = stopwords.words('english'), lemma = WordNetLemmatizer()):\n",
    "    \"\"\"returns iter of tokens\"\"\"\n",
    "    main_words = [x for x in words if x not in stopwords]\n",
    "    return (lemma.lemmatize(x,penn_to_wn(y)) for (x,y) in unigram_tagger.tag(main_words))\n",
    "    \n",
    "\n"
   ]
  },
  {
   "cell_type": "code",
   "execution_count": 38,
   "metadata": {
    "collapsed": false
   },
   "outputs": [
    {
     "name": "stdout",
     "output_type": "stream",
     "text": [
      "['different', u'word', u'go', u'love']\n",
      "['colorless', u'idea', 'sleep', 'furiously']\n"
     ]
    }
   ],
   "source": [
    "print list(get_tokens([\"here\", \"are\", \"different\", \"words\", \"gone\", \"loving\"]))\n",
    "print list(get_tokens( ['colorless','ideas','sleep','furiously']))"
   ]
  },
  {
   "cell_type": "markdown",
   "metadata": {},
   "source": [
    "Необходимо реализовать функцию `get_tweet_tokens(tweet)`. Входной параметр - текст твита. Возвращаемое значение -- токены твита. "
   ]
  },
  {
   "cell_type": "code",
   "execution_count": 39,
   "metadata": {
    "collapsed": false
   },
   "outputs": [
    {
     "name": "stdout",
     "output_type": "stream",
     "text": [
      "new-york visit trump\n"
     ]
    }
   ],
   "source": [
    "def get_tweet_tokens(tweet):\n",
    "    return get_tokens(get_words(remove_url_and_users(tweet)))\n",
    "\n",
    "print \" \".join(list(get_tweet_tokens(\"New-York was visited by Trump\")))"
   ]
  },
  {
   "cell_type": "markdown",
   "metadata": {},
   "source": [
    "Необходимо реализовать функцию `collect_users_tokens()`. Функция должна сконструировать матрицу признаков пользователей. В этой матрице строка - пользователь. Столбец - токен. На пересечении - сколько раз токен встречается у пользователя.\n",
    "Для построения матрицы можно использовать `DictVectorizer` из `sklearn.feature_extraction`."
   ]
  },
  {
   "cell_type": "code",
   "execution_count": 40,
   "metadata": {
    "collapsed": false
   },
   "outputs": [],
   "source": [
    "def collect_users_tokens(df_users, save_period = 15, temp_file_name = \"users_info.json\"):\n",
    "    id_list = df_users['uid']\n",
    "    info_dict = dict()\n",
    "    part_dict = dict()\n",
    "    if os.path.isfile(temp_file_name):\n",
    "        with open(temp_file_name, \"r\") as temp_file:\n",
    "            for line in temp_file:\n",
    "                info_dict.update(json.loads(line))\n",
    "\n",
    "    for user_id in id_list:\n",
    "        if str(user_id) in info_dict:\n",
    "            #sys.stdout.write(\"Information for user {} had already collected\\n\".format(user_id))\n",
    "            continue\n",
    "        #sys.stdout.write(\"Collecting info for user {} ...\".format(user_id))\n",
    "        \n",
    "        freq = Counter()\n",
    "        for tweet in get_user_tweets(user_id):\n",
    "            freq += Counter(get_tweet_tokens(tweet['text']))\n",
    "        part_dict[user_id] = freq\n",
    "        \n",
    "        #sys.stdout.write(\" Done\\n\")\n",
    "        if len(part_dict) == save_period:\n",
    "            info_dict.update(part_dict)\n",
    "            #sys.stdout.write(\"Saving intermediate results ...\")\n",
    "            with open(temp_file_name, \"a\") as temp_file:\n",
    "                temp_file.write(json.dumps(part_dict) + \"\\n\")\n",
    "            part_dict = dict()\n",
    "            #sys.stdout.write(\" Done\\n\")\n",
    "    # save intermediate result\n",
    "    if len(part_dict) > 0:\n",
    "        info_dict.update(part_dict)\n",
    "        #sys.stdout.write(\"Saving intermediate results ...\")\n",
    "        with open(temp_file_name, \"a\") as temp_file:\n",
    "            temp_file.write(json.dumps(part_dict) + \"\\n\")\n",
    "        part_dict = dict()\n",
    "        #sys.stdout.write(\" Done\\n\")\n",
    "    return info_dict.keys(), info_dict.values()\n"
   ]
  },
  {
   "cell_type": "code",
   "execution_count": 41,
   "metadata": {
    "collapsed": false
   },
   "outputs": [],
   "source": [
    "\n",
    "\n",
    "\n",
    "TRAINING_SET_URL = \"train.csv\"\n",
    "EXAMPLE_SET_URL = \"test.csv\"\n",
    "df_users_train = pd.read_csv(TRAINING_SET_URL, sep=\",\", header=0, names=[\"uid\", \"cat\"])\n",
    "df_users_ex = pd.read_csv(EXAMPLE_SET_URL, sep=\",\", header=0, names=[\"uid\"])\n",
    "df_users_ex['cat'] = None\n",
    "df_users = pd.concat([df_users_train, df_users_ex])\n",
    "\n",
    "\n",
    "users, users_tokens = collect_users_tokens(df_users)\n",
    "v = DictVectorizer()\n",
    "vs = v.fit_transform(users_tokens)"
   ]
  },
  {
   "cell_type": "raw",
   "metadata": {},
   "source": [
    "Сохраним полученные данные в файл. Используется метод savez из numpy. "
   ]
  },
  {
   "cell_type": "code",
   "execution_count": 16,
   "metadata": {
    "collapsed": false
   },
   "outputs": [],
   "source": [
    "import numpy as np\n",
    "np.savez(\"out_4.dat\", data=vs, users=users, users_tokens=users_tokens )"
   ]
  },
  {
   "cell_type": "markdown",
   "metadata": {},
   "source": [
    "Далее для получения представления о полученной информацию о токенах предлагается отобразить ее в виде облака тэгов. [Подсказка](http://anokhin.github.io/img/tag_cloud.png). "
   ]
  },
  {
   "cell_type": "code",
   "execution_count": 116,
   "metadata": {
    "collapsed": false
   },
   "outputs": [],
   "source": [
    "from os import path\n",
    "\n",
    "def draw_tag_cloud(v, vs):\n",
    "    tokens = v.get_feature_names()\n",
    "    freq = np.sum(vs, axis = 0, keepdims = False)\n",
    "    freq = np.array(freq)[0]\n",
    "    mask = imread(\"cat_mask.jpg\")\n",
    "    pos = np.argpartition(freq, -100)[-100:]\n",
    "    wc = WordCloud(max_words=200, relative_scaling = 0.5, mask = mask)\n",
    "    freqtuple = [(tokens[i], freq[i]) for i in pos]\n",
    "    wc.generate_from_frequencies(freqtuple)\n",
    "    plt.imshow(wc)\n",
    "    plt.axis(\"off\")\n",
    "    plt.show()\n",
    "    return"
   ]
  },
  {
   "cell_type": "code",
   "execution_count": 117,
   "metadata": {
    "collapsed": false
   },
   "outputs": [
    {
     "data": {
      "image/png": "[encoded data removed]",
      "text/plain": [
       "<matplotlib.figure.Figure at 0x132851410>"
      ]
     },
     "metadata": {},
     "output_type": "display_data"
    }
   ],
   "source": [
    "draw_tag_cloud(v, vs)\n"
   ]
  }
 ],
 "metadata": {
  "anaconda-cloud": {},
  "kernelspec": {
   "display_name": "Python [default]",
   "language": "python",
   "name": "python2"
  },
  "language_info": {
   "codemirror_mode": {
    "name": "ipython",
    "version": 2
   },
   "file_extension": ".py",
   "mimetype": "text/x-python",
   "name": "python",
   "nbconvert_exporter": "python",
   "pygments_lexer": "ipython2",
   "version": "2.7.12"
  }
 },
 "nbformat": 4,
 "nbformat_minor": 0
}
