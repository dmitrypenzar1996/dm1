{
 "cells": [
  {
   "cell_type": "markdown",
   "metadata": {},
   "source": [
    "# Домашнее задание 4. Конструирование текстовых признаков из твитов пользователей"
   ]
  },
  {
   "cell_type": "markdown",
   "metadata": {},
   "source": [
    "## Сбор данных"
   ]
  },
  {
   "cell_type": "markdown",
   "metadata": {},
   "source": [
    "Первый этап - сбор твитов пользователей. Необходимо подключаться к Twitter API и запрашивать твиты по id пользователя. \n",
    "Подключение к API подробно описано в ДЗ 1."
   ]
  },
  {
   "cell_type": "code",
   "execution_count": 93,
   "metadata": {
    "collapsed": true
   },
   "outputs": [],
   "source": [
    "import twitter\n",
    "from itertools import ifilter, imap\n",
    "import sys\n",
    "from twitter.api import RateLimit, TwitterError\n",
    "from time import sleep, time\n",
    "import string\n",
    "from nltk.tokenize import TweetTokenizer\n",
    "from itertools import ifilter, imap\n",
    "from nltk.stem import WordNetLemmatizer\n",
    "from nltk.corpus import stopwords\n",
    "from collections import Counter\n",
    "import os\n",
    "import json\n",
    "import re\n",
    "import pandas as pd\n",
    "from collections import defaultdict\n",
    "import json\n",
    "from sklearn.feature_extraction import DictVectorizer\n",
    "from requests.exceptions import ConnectionError"
   ]
  },
  {
   "cell_type": "code",
   "execution_count": 80,
   "metadata": {
    "collapsed": false
   },
   "outputs": [],
   "source": [
    "\n",
    "CONSUMER_KEY = \"ugobTj1J8YbCQoyNrDIucjOPX\"\n",
    "CONSUMER_SECRET = \"eWBVA7VJfKYywSbAqe9tQJw50dHQvyLJCacFBoIs2dd2CkNTgY\"\n",
    "\n",
    "ACCESS_TOKEN_KEY = \"781167349399490562-WLDzou6ho6w8yVLTKbrEPT0bdq0wSfg\"\n",
    "ACCESS_TOKEN_SECRET = \"vrTd7102GIFrUAmNVHKJNn8wsqhGND2cTaaeKVjwsq8jO\"\n",
    "\n",
    "api = twitter.Api(consumer_key=CONSUMER_KEY, \n",
    "                  consumer_secret=CONSUMER_SECRET, \n",
    "                  access_token_key=ACCESS_TOKEN_KEY, \n",
    "                  access_token_secret=ACCESS_TOKEN_SECRET)"
   ]
  },
  {
   "cell_type": "markdown",
   "metadata": {},
   "source": [
    "Для получения твитов пользователя может быть использован метод GetUserTimeline из библиотеки python-twitter. Он позволяет получить не более 200 твитов пользователя. По каждому пользователю достаточно собрать 200 твитов.\n",
    "\n",
    "Метод имеет ограничение по количеству запросов в секунду. Для получения информации о промежутке времени, которое необходимо подождать для повторного обращения к API может быть использован метод `GetSleepTime`. Для получения информации об ограничениях запросов с помощью метода `GetUserTimeLine` необходимо вызывать `GetSleepTime` с параметром \"statuses/user_timeline\".\n",
    "\n",
    "Метод GetUserTimeline возвращает объекты типа Status. У этих объектов есть метод AsDict, который позволяет представить твит в виде словаря.\n",
    "\n",
    "Id пользователей необходимо считать из файла, как было сделано в ДЗ 1.\n",
    "\n",
    "Необходимо реализовать функцию `get_user_tweets(user_id)`. Входной параметр - id пользователя из файла. Возвращаемое значение - массив твитов пользователя, где каждый твит представлен в виде словаря. Предполагается, что информация о пользователе содержится в твитах, которые пользователь написал сам. Это означает, что можно попробовать отфильтровать ответы другим пользователям, ссылки и ретвиты, а так же картинки и видео, так как наша цель - найти текстовую информацию."
   ]
  },
  {
   "cell_type": "code",
   "execution_count": 81,
   "metadata": {
    "collapsed": true
   },
   "outputs": [],
   "source": [
    "#https://marcobonzanini.com/2015/03/09/mining-twitter-data-with-python-part-2/\n",
    "def getTrashRemover(remove_hash_tags= False, remove_hash_sign = False):\n",
    "    emoticons_str = r\"\"\"\n",
    "    (?:\n",
    "        [:=;] \n",
    "        [oO\\-]? \n",
    "        [D\\)\\]\\(\\]/\\\\OpP] \n",
    "    )\"\"\"\n",
    "    # Eyes # Nose (optional) # Mouth\n",
    "    regex_str = [\n",
    "        emoticons_str,\n",
    "        r'<[^>]+>', # HTML tags\n",
    "        r'(?:@[\\w_]+)\\:?', # @-mentions\n",
    "        r'http[s]?://(?:[a-z]|[0-9]|[$-_@.&amp;+]|[!*\\(\\),]|(?:%[0-9a-f][0-9a-f]))+', # URLs\n",
    "        r'(?:(?:\\d+,?)+(?:\\.?\\d+)?)' # numbers\n",
    "        #r'(?:\\S)' # anything else\n",
    "    ]\n",
    "    if remove_hash_tags:\n",
    "        regex_str.append( r\"(?:\\#+[\\w_]+[\\w\\'_\\-]*[\\w_]+)\")# hash-tags\n",
    "    elif remove_hash_sign:\n",
    "        regex_str.append(r\"\\#\")\n",
    "    def remove_url_and_users(text, trash = re.compile(r'('+'|'.join(regex_str)+')', \n",
    "                                                      flags = re.VERBOSE | re.IGNORECASE | re.UNICODE) ):\n",
    "        return trash.sub(\" \", text)\n",
    "\n",
    "    return remove_url_and_users\n",
    "\n",
    "\n",
    "def isUnofficialTweet(text, regex = re.compile(r\"\\s*RT\\s* \\@\", flags = re.VERBOSE | re.IGNORECASE | re.UNICODE)):\n",
    "    return True if regex.match(text) else False\n",
    "\n",
    "#http://stackoverflow.com/questions/29689566/exclude-retweets-from-twitter-streaming-api-using-tweepy\n"
   ]
  },
  {
   "cell_type": "code",
   "execution_count": 96,
   "metadata": {
    "collapsed": false
   },
   "outputs": [],
   "source": [
    "remove_url_and_users = getTrashRemover()\n",
    "\n",
    "def calcLimit():\n",
    "    api.rate_limit = None\n",
    "    api.InitializeRateLimit()\n",
    "    rg = api.CheckRateLimit(\"/statuses/user_timeline\").reset - time()\n",
    "    return rg + 1 if rg > 0 else 1\n",
    "\n",
    "def get_user_tweets(user_id, rmUnOfTweets = True):\n",
    "    max_id = None\n",
    "    full_user_tweet_list = []\n",
    "    while len(full_user_tweet_list) < 200:\n",
    "        \"\"\"returns iterator of tweets as dicts\"\"\"\n",
    "        try:\n",
    "            if max_id:\n",
    "                user_tweet_list = api.GetUserTimeline(user_id = user_id, count = 200, \n",
    "                                exclude_replies = True, include_rts = False,\n",
    "                                                 max_id = max_id)\n",
    "            else:\n",
    "                user_tweet_list = api.GetUserTimeline(user_id = user_id, count = 200, \n",
    "                        exclude_replies = True, include_rts = False)\n",
    "        except TwitterError as e:\n",
    "            if e.message == \"Exceeded connection limit for user\":\n",
    "                limit = calcLimit()\n",
    "                sys.stderr.write(\"Have got error: '{}'.Waiting for {}\\n\".\\\n",
    "                    format(e.message, limit))\n",
    "                sleep(limit)\n",
    "                user_tweet_list = api.GetUserTimeline(user_id = user_id, count = 200, \n",
    "                    exclude_replies = True, include_rts = False)\n",
    "            elif e.message == \"Not authorized.\":\n",
    "                user_tweet_list = []\n",
    "                sys.stderr.write(\"User is unathorized\\n\")\n",
    "            elif isinstance(e.message, list) and u\"message\" in e.message[0] and\\\n",
    "                e.message[0][u'message'] == u\"Sorry, that page does not exist.\": # RIP\n",
    "                user_tweet_list = []\n",
    "                sys.stderr.write(\"User is not exist\\n\")\n",
    "            elif isinstance(e.message, list) and u\"message\" in e.message[0] and\\\n",
    "                e.message[0][u'message'] == u'Rate limit exceeded':\n",
    "                limit = calcLimit()\n",
    "                sys.stderr.write(\"Have got error: '{}'.Waiting for {}\\n\".\\\n",
    "                    format(e.message, limit))\n",
    "                sleep(limit)\n",
    "                user_tweet_list = api.GetUserTimeline(user_id = user_id, count = 200, \n",
    "                    exclude_replies = True, include_rts = False)\n",
    "            else:\n",
    "                sys.stderr.write(\"Get unexpected Twitter error '{}'\\n\".\n",
    "                                 format(e.message))\n",
    "                raise TwitterError(e.message)\n",
    "        except ConnectionError as ce:\n",
    "            sys.stderr(\"Possibly exceeded connection limit for user. \")\n",
    "            limit = calcLimit()\n",
    "            sys.stderr.write(\"Waiting for {}\\n\".format(limit))\n",
    "            sleep(limit)\n",
    "            user_tweet_list = api.GetUserTimeline(user_id = user_id, count = 200, \n",
    "                    exclude_replies = True, include_rts = False)    \n",
    "        \n",
    "        if user_tweet_list:\n",
    "            max_id = user_tweet_list[-1].id - 1\n",
    "            user_tweet_list = ifilter(lambda x: x.lang == \"en\", user_tweet_list)\n",
    "            user_tweet_list = ifilter(lambda x : x.text.strip() != u\"\", user_tweet_list)\n",
    "            if rmUnOfTweets:\n",
    "                user_tweet_list = ifilter(lambda x : not isUnofficialTweet(x.text), user_tweet_list)\n",
    "            user_tweet_list = ( {'lang' : u'en',\n",
    "                            'favorited' : x.favorited,\n",
    "                            'trucated' : x.truncated,\n",
    "                            'text' : remove_url_and_users(x.text),\n",
    "                            'created_at' : x.created_at,\n",
    "                           'retweeted': x.retweeted,\n",
    "                            'source' : x.source,\n",
    "                            'user' : {'id' : x.user.id},\n",
    "                            'id' : x.id} for x in user_tweet_list)\n",
    "            user_tweet_list = ifilter(lambda x : x['text'].strip() != u\"\", user_tweet_list)\n",
    "            \n",
    "            full_user_tweet_list.extend(user_tweet_list)\n",
    "        else:\n",
    "            break\n",
    "    \n",
    "    return full_user_tweet_list[0:200]"
   ]
  },
  {
   "cell_type": "markdown",
   "metadata": {},
   "source": [
    "## Разбор текста твита"
   ]
  },
  {
   "cell_type": "markdown",
   "metadata": {},
   "source": [
    "Обработка текста предполагает разбиение текста на отдельные элементы - параграфы, предложения, слова. Мы будем преобразовывать текст твита к словам. Для этого текст необходимо разбить на слова. Сделать это можно, например, с помощью регулярного выражения.\n",
    "\n",
    "\n",
    "Необходимо реализовать функцию, `get_words(text)`. Входной параметр - строка с текстом. Возвращаемое значение - массив строк (слов). Обратите внимание, что нужно учесть возможное наличие пунктуации и выделить по возможности только слова. "
   ]
  },
  {
   "cell_type": "code",
   "execution_count": 83,
   "metadata": {
    "collapsed": false
   },
   "outputs": [],
   "source": [
    "def remove_punctuation(text, regex = re.compile(r\"[^\\w-]|(?<!\\w)-(?!\\w)\", flags = re.VERBOSE | re.IGNORECASE | re.UNICODE)):\n",
    "    return regex.sub(\" \", text)\n",
    "\n",
    "def get_words(text,  tknzr = TweetTokenizer(preserve_case = False, strip_handles=True, reduce_len=False)):\n",
    "    \"\"\"returns iterator of words\"\"\"\n",
    "    return ifilter(lambda x : x != \":\", tknzr.tokenize(remove_punctuation(text)))\n",
    "    # : means, that twt substitute smth like @andrew by :\n",
    "\n",
    "    # your code here"
   ]
  },
  {
   "cell_type": "code",
   "execution_count": 84,
   "metadata": {
    "collapsed": false
   },
   "outputs": [
    {
     "name": "stdout",
     "output_type": "stream",
     "text": [
      "[u'here', u'are', u'different', u'words']\n"
     ]
    }
   ],
   "source": [
    "print list(get_words(\"Here are different words!\"))"
   ]
  },
  {
   "cell_type": "markdown",
   "metadata": {},
   "source": [
    "Далее полученные слова необходимо привести к нормальной форме. То есть привести их к форме единственного числа настоящего времени и пр. Сделать это можно с помощью библиотеки nltk. Информацию по загрузке, установке библиотеки и примерах использования можно найти на сайте http://www.nltk.org/\n",
    "\n",
    "Для загрузки всех необходимых словарей можно воспользоваться методом download из библиотеки nltk."
   ]
  },
  {
   "cell_type": "code",
   "execution_count": 85,
   "metadata": {
    "collapsed": false
   },
   "outputs": [],
   "source": [
    "import nltk\n",
    "#nltk.download()"
   ]
  },
  {
   "cell_type": "code",
   "execution_count": null,
   "metadata": {
    "collapsed": false
   },
   "outputs": [],
   "source": []
  },
  {
   "cell_type": "markdown",
   "metadata": {},
   "source": [
    "Для дальнейшей обработки слова должны быть приведены к нижнему регистру. \n",
    "\n",
    "Для приведения к нормальной форме можно использовать `WordNetLemmatizer` из библиотеки nltk. У этого класса есть метод `lemmatize`.\n",
    "\n",
    "Также необходимо убрать из текста так называемые стоп-слова. Это часто используемые слова, не несущие смысловой нагрузки для наших задач. Сделать это можно с помощью `stopwords` из nltk.corpus"
   ]
  },
  {
   "cell_type": "markdown",
   "metadata": {},
   "source": [
    "Необходимо реализовать функцию `get_tokens(words)`. Входной параметр - массив слов. Возвращаемое значение - массив токенов."
   ]
  },
  {
   "cell_type": "code",
   "execution_count": 86,
   "metadata": {
    "collapsed": false
   },
   "outputs": [],
   "source": [
    "## for correct lemmatizer work\n",
    "\n",
    "from nltk.corpus import brown\n",
    "brown_tagged_sents = brown.tagged_sents()\n",
    "brown_sents = brown.sents()\n",
    "unigram_tagger = nltk.UnigramTagger(brown_tagged_sents)"
   ]
  },
  {
   "cell_type": "code",
   "execution_count": 87,
   "metadata": {
    "collapsed": true
   },
   "outputs": [],
   "source": [
    "#http://stackoverflow.com/questions/25534214/nltk-wordnet-lemmatizer-shouldnt-it-lemmatize-all-inflections-of-a-word\n",
    "from nltk.corpus import wordnet as wn\n",
    "\n",
    "def is_noun(tag):\n",
    "    return tag in ['NN', 'NNS', 'NNP', 'NNPS']\n",
    "\n",
    "\n",
    "def is_verb(tag):\n",
    "    return tag in ['VB', 'VBD', 'VBG', 'VBN', 'VBP', 'VBZ']\n",
    "\n",
    "\n",
    "def is_adverb(tag):\n",
    "    return tag in ['RB', 'RBR', 'RBS']\n",
    "\n",
    "\n",
    "def is_adjective(tag):\n",
    "    return tag in ['JJ', 'JJR', 'JJS']\n",
    "\n",
    "\n",
    "def penn_to_wn(tag):\n",
    "    if is_adjective(tag):\n",
    "        return wn.ADJ\n",
    "    elif is_noun(tag):\n",
    "        return wn.NOUN\n",
    "    elif is_adverb(tag):\n",
    "        return wn.ADV\n",
    "    elif is_verb(tag):\n",
    "        return wn.VERB\n",
    "    return wn.NOUN # just to avoid raising error"
   ]
  },
  {
   "cell_type": "code",
   "execution_count": 88,
   "metadata": {
    "collapsed": false
   },
   "outputs": [],
   "source": [
    "from nltk import pos_tag\n",
    "from nltk.corpus import brown\n",
    "\n",
    "def get_tokens(words, stopwords = stopwords.words('english'), lemma = WordNetLemmatizer()):\n",
    "    \"\"\"returns iter of tokens\"\"\"\n",
    "    main_words = [x for x in words if x not in stopwords]\n",
    "    return (lemma.lemmatize(x,penn_to_wn(y)) for (x,y) in unigram_tagger.tag(main_words))\n",
    "    \n",
    "\n"
   ]
  },
  {
   "cell_type": "code",
   "execution_count": 89,
   "metadata": {
    "collapsed": false
   },
   "outputs": [
    {
     "name": "stdout",
     "output_type": "stream",
     "text": [
      "['different', u'word', u'go', u'love']\n",
      "['colorless', u'idea', 'sleep', 'furiously']\n"
     ]
    }
   ],
   "source": [
    "print list(get_tokens([\"here\", \"are\", \"different\", \"words\", \"gone\", \"loving\"]))\n",
    "print list(get_tokens( ['colorless','ideas','sleep','furiously']))"
   ]
  },
  {
   "cell_type": "markdown",
   "metadata": {},
   "source": [
    "Необходимо реализовать функцию `get_tweet_tokens(tweet)`. Входной параметр - текст твита. Возвращаемое значение -- токены твита. "
   ]
  },
  {
   "cell_type": "code",
   "execution_count": 90,
   "metadata": {
    "collapsed": false
   },
   "outputs": [
    {
     "name": "stdout",
     "output_type": "stream",
     "text": [
      "new-york visit trump\n"
     ]
    }
   ],
   "source": [
    "def get_tweet_tokens(tweet):\n",
    "    return get_tokens(get_words(remove_url_and_users(tweet)))\n",
    "\n",
    "print \" \".join(list(get_tweet_tokens(\"New-York was visited by Trump\")))"
   ]
  },
  {
   "cell_type": "markdown",
   "metadata": {},
   "source": [
    "Необходимо реализовать функцию `collect_users_tokens()`. Функция должна сконструировать матрицу признаков пользователей. В этой матрице строка - пользователь. Столбец - токен. На пересечении - сколько раз токен встречается у пользователя.\n",
    "Для построения матрицы можно использовать `DictVectorizer` из `sklearn.feature_extraction`."
   ]
  },
  {
   "cell_type": "code",
   "execution_count": 91,
   "metadata": {
    "collapsed": false
   },
   "outputs": [],
   "source": [
    "def collect_users_tokens(df_users, save_period = 15, temp_file_name = \"users_info_2.json\"):\n",
    "    id_list = df_users['uid']\n",
    "    info_dict = dict()\n",
    "    part_dict = dict()\n",
    "    if os.path.isfile(temp_file_name):\n",
    "        with open(temp_file_name, \"r\") as temp_file:\n",
    "            for line in temp_file:\n",
    "                info_dict.update(json.loads(line))\n",
    "\n",
    "    for user_id in id_list:\n",
    "        if str(user_id) in info_dict:\n",
    "            sys.stdout.write(\"Information for user {} had already collected\\n\".format(user_id))\n",
    "            continue\n",
    "        sys.stdout.write(\"Collecting info for user {} ...\".format(user_id))\n",
    "        \n",
    "        freq = Counter()\n",
    "        for tweet in get_user_tweets(user_id):\n",
    "            freq += Counter(get_tweet_tokens(tweet['text']))\n",
    "        part_dict[user_id] = freq\n",
    "        \n",
    "        sys.stdout.write(\" Done\\n\")\n",
    "        if len(part_dict) == save_period:\n",
    "            info_dict.update(part_dict)\n",
    "            sys.stdout.write(\"Saving intermediate results ...\")\n",
    "            with open(temp_file_name, \"a\") as temp_file:\n",
    "                temp_file.write(json.dumps(part_dict) + \"\\n\")\n",
    "            part_dict = dict()\n",
    "            sys.stdout.write(\" Done\\n\")\n",
    "    # save intermediate result\n",
    "    \n",
    "    return info_dict.keys(), info_dict.values()\n"
   ]
  },
  {
   "cell_type": "code",
   "execution_count": null,
   "metadata": {
    "collapsed": false
   },
   "outputs": [
    {
     "name": "stdout",
     "output_type": "stream",
     "text": [
      "Information for user 202388889 had already collected\n",
      "Information for user 1392518336 had already collected\n",
      "Information for user 361208576 had already collected\n",
      "Information for user 1535215357 had already collected\n",
      "Information for user 4396196375 had already collected\n",
      "Information for user 17938477 had already collected\n",
      "Information for user 720288026681716737 had already collected\n",
      "Information for user 174004739 had already collected\n",
      "Information for user 53783678 had already collected\n",
      "Information for user 257662370 had already collected\n",
      "Information for user 4795355113 had already collected\n",
      "Information for user 1633971270 had already collected\n",
      "Information for user 2803810119 had already collected\n",
      "Information for user 2244770588 had already collected\n",
      "Information for user 102071251 had already collected\n",
      "Information for user 3358825450 had already collected\n",
      "Information for user 555940842 had already collected\n",
      "Information for user 2469354073 had already collected\n",
      "Information for user 360464656 had already collected\n",
      "Information for user 77243076 had already collected\n",
      "Information for user 1731752761 had already collected\n",
      "Information for user 2330149164 had already collected\n",
      "Information for user 2830586398 had already collected\n",
      "Information for user 443273019 had already collected\n",
      "Information for user 2591381383 had already collected\n",
      "Information for user 1093716612 had already collected\n",
      "Information for user 36620392 had already collected\n",
      "Information for user 3437626995 had already collected\n",
      "Information for user 387962514 had already collected\n",
      "Information for user 2938363689 had already collected\n",
      "Information for user 20930398 had already collected\n",
      "Information for user 143697407 had already collected\n",
      "Information for user 2291500309 had already collected\n",
      "Information for user 352663209 had already collected\n",
      "Information for user 14616266 had already collected\n",
      "Information for user 2277153890 had already collected\n",
      "Information for user 455246957 had already collected\n",
      "Information for user 1400974436 had already collected\n",
      "Information for user 449119247 had already collected\n",
      "Information for user 330816423 had already collected\n",
      "Information for user 29204608 had already collected\n",
      "Information for user 2733660094 had already collected\n",
      "Information for user 4756963587 had already collected\n",
      "Information for user 22045364 had already collected\n",
      "Information for user 4136625193 had already collected\n",
      "Information for user 372046661 had already collected\n",
      "Information for user 849310634 had already collected\n",
      "Information for user 24036997 had already collected\n",
      "Information for user 1141088486 had already collected\n",
      "Information for user 3014684283 had already collected\n",
      "Information for user 3293949957 had already collected\n",
      "Information for user 727272715665690624 had already collected\n",
      "Information for user 2752545437 had already collected\n",
      "Information for user 14368656 had already collected\n",
      "Information for user 20405419 had already collected\n",
      "Information for user 2682726528 had already collected\n",
      "Information for user 717841856785088512 had already collected\n",
      "Information for user 2889092479 had already collected\n",
      "Information for user 3182191980 had already collected\n",
      "Information for user 2582869146 had already collected\n",
      "Information for user 3092469172 had already collected\n",
      "Information for user 2826839454 had already collected\n",
      "Information for user 2660374267 had already collected\n",
      "Information for user 261625073 had already collected\n",
      "Information for user 233499930 had already collected\n",
      "Information for user 2664749580 had already collected\n",
      "Information for user 106594321 had already collected\n",
      "Information for user 722573847430504448 had already collected\n",
      "Information for user 3742834517 had already collected\n",
      "Information for user 735391716887429120 had already collected\n",
      "Information for user 241331375 had already collected\n",
      "Information for user 442382315 had already collected\n",
      "Information for user 16536054 had already collected\n",
      "Information for user 81324827 had already collected\n",
      "Information for user 583117972 had already collected\n",
      "Information for user 15800855 had already collected\n",
      "Information for user 705726066 had already collected\n",
      "Information for user 68857077 had already collected\n",
      "Information for user 197516080 had already collected\n",
      "Information for user 8685682 had already collected\n",
      "Information for user 2976908908 had already collected\n",
      "Information for user 2701255986 had already collected\n",
      "Information for user 620018150 had already collected\n",
      "Information for user 271451861 had already collected\n",
      "Information for user 194773838 had already collected\n",
      "Information for user 2893677862 had already collected\n",
      "Information for user 2392573227 had already collected\n",
      "Information for user 1195278157 had already collected\n",
      "Information for user 830253571 had already collected\n",
      "Information for user 377029968 had already collected\n",
      "Information for user 122799299 had already collected\n",
      "Information for user 27317580 had already collected\n",
      "Information for user 12754762 had already collected\n",
      "Information for user 85973106 had already collected\n",
      "Information for user 2873086293 had already collected\n",
      "Information for user 15751454 had already collected\n",
      "Information for user 591690042 had already collected\n",
      "Information for user 4092854173 had already collected\n",
      "Information for user 270212875 had already collected\n",
      "Information for user 870857718 had already collected\n",
      "Information for user 1663794048 had already collected\n",
      "Information for user 862290265 had already collected\n",
      "Information for user 707400118807482369 had already collected\n",
      "Information for user 17389503 had already collected\n",
      "Information for user 40768083 had already collected\n",
      "Information for user 243053328 had already collected\n",
      "Information for user 89662003 had already collected\n",
      "Information for user 17369567 had already collected\n",
      "Information for user 738921600 had already collected\n",
      "Information for user 604476686 had already collected\n",
      "Information for user 302563842 had already collected\n",
      "Information for user 247944133 had already collected\n",
      "Information for user 3331968983 had already collected\n",
      "Information for user 252434425 had already collected\n",
      "Information for user 2810127544 had already collected\n",
      "Information for user 156333299 had already collected\n",
      "Information for user 181336337 had already collected\n",
      "Information for user 3097175972 had already collected\n",
      "Information for user 186397253 had already collected\n",
      "Information for user 2866782904 had already collected\n",
      "Information for user 719914275771428866 had already collected\n",
      "Information for user 4900376472 had already collected\n",
      "Information for user 2412966416 had already collected\n",
      "Information for user 174141832 had already collected\n",
      "Information for user 64619482 had already collected\n",
      "Information for user 394974502 had already collected\n",
      "Information for user 2198704020 had already collected\n",
      "Information for user 18155773 had already collected\n",
      "Information for user 756335606607720450 had already collected\n",
      "Information for user 732808088810618880 had already collected\n",
      "Information for user 22286451 had already collected\n",
      "Information for user 96235518 had already collected\n",
      "Information for user 3091562110 had already collected\n",
      "Information for user 3195714762 had already collected\n",
      "Information for user 4112063532 had already collected\n",
      "Information for user 125868025 had already collected\n",
      "Information for user 737109737054056448 had already collected\n",
      "Information for user 103153950 had already collected\n",
      "Information for user 742777527467380742 had already collected\n",
      "Information for user 2976487163 had already collected\n",
      "Information for user 3123204560 had already collected\n",
      "Information for user 307445751 had already collected\n",
      "Information for user 250492272 had already collected\n",
      "Information for user 237443755 had already collected\n",
      "Information for user 33655372 had already collected\n",
      "Information for user 385759660 had already collected\n",
      "Information for user 2869813893 had already collected\n",
      "Information for user 37374348 had already collected\n",
      "Information for user 996399246 had already collected\n",
      "Information for user 15801372 had already collected\n",
      "Information for user 744682635188928512 had already collected\n",
      "Information for user 3091636366 had already collected\n",
      "Information for user 321213484 had already collected\n",
      "Information for user 940237466 had already collected\n",
      "Information for user 37214134 had already collected\n",
      "Information for user 2585090000 had already collected\n",
      "Information for user 861746341 had already collected\n",
      "Information for user 3145741085 had already collected\n",
      "Information for user 868252610 had already collected\n",
      "Information for user 19780786 had already collected\n",
      "Information for user 3556805776 had already collected\n",
      "Information for user 710823996032290816 had already collected\n",
      "Information for user 1534375489 had already collected\n",
      "Information for user 262939560 had already collected\n",
      "Information for user 360323271 had already collected\n",
      "Information for user 2204642713 had already collected\n",
      "Information for user 1574318594 had already collected\n",
      "Information for user 4384693707 had already collected\n",
      "Information for user 702559655461957632 had already collected\n",
      "Information for user 266867158 had already collected\n",
      "Information for user 484595690 had already collected\n",
      "Information for user 768806279309512705 had already collected\n",
      "Information for user 162500440 had already collected\n",
      "Information for user 3073503603 had already collected\n",
      "Information for user 1575902725 had already collected\n",
      "Information for user 1199251308 had already collected\n",
      "Information for user 48525928 had already collected\n",
      "Information for user 215698464 had already collected\n",
      "Information for user 2359225182 had already collected\n",
      "Information for user 13854472 had already collected\n",
      "Information for user 4853512997 had already collected\n",
      "Information for user 4505360352 had already collected\n",
      "Information for user 706466308976734208 had already collected\n",
      "Information for user 889022935 had already collected\n",
      "Information for user 2804090827 had already collected\n",
      "Information for user 2218957290 had already collected\n",
      "Information for user 305141481 had already collected\n",
      "Information for user 2807496454 had already collected\n",
      "Information for user 566871266 had already collected\n",
      "Information for user 396787338 had already collected\n",
      "Information for user 751804249084948480 had already collected\n",
      "Information for user 1633951202 had already collected\n",
      "Information for user 3059822856 had already collected\n",
      "Information for user 324191116 had already collected\n",
      "Information for user 2366569213 had already collected\n",
      "Information for user 3237611533 had already collected\n",
      "Information for user 93033299 had already collected\n",
      "Information for user 2834652729 had already collected\n",
      "Information for user 2679693610 had already collected\n",
      "Information for user 33443030 had already collected\n",
      "Information for user 609212773 had already collected\n",
      "Information for user 139881843 had already collected\n",
      "Information for user 13050712 had already collected\n",
      "Information for user 1593911304 had already collected\n",
      "Information for user 3105274249 had already collected\n",
      "Information for user 3099191 had already collected\n",
      "Information for user 766192139294367744 had already collected\n",
      "Information for user 1194986731 had already collected\n",
      "Information for user 4334014937 had already collected\n",
      "Information for user 581109471 had already collected\n",
      "Information for user 1624347776 had already collected\n",
      "Information for user 5673082 had already collected\n",
      "Information for user 1361623950 had already collected\n",
      "Information for user 1319277674 had already collected\n",
      "Information for user 1511217822 had already collected\n",
      "Information for user 2489712225 had already collected\n",
      "Information for user 156751345 had already collected\n",
      "Information for user 714717134 had already collected\n",
      "Information for user 23581650 had already collected\n",
      "Information for user 4909093579 had already collected\n",
      "Information for user 2440870033 had already collected\n",
      "Information for user 70276986 had already collected\n",
      "Information for user 22643886 had already collected\n",
      "Information for user 376449628 had already collected\n",
      "Information for user 746503986501541888 had already collected\n",
      "Information for user 1619363983 had already collected\n",
      "Information for user 2328392220 had already collected\n",
      "Information for user 366081170 had already collected\n",
      "Information for user 32943298 had already collected\n",
      "Information for user 755161479326859264 had already collected\n",
      "Information for user 30789320 had already collected\n",
      "Information for user 761640324267552768 had already collected\n",
      "Information for user 749905226 had already collected\n",
      "Information for user 1049419069 had already collected\n",
      "Information for user 948150751 had already collected\n",
      "Information for user 1556914716 had already collected\n",
      "Information for user 120661388 had already collected\n",
      "Information for user 805488692 had already collected\n",
      "Information for user 2399010342 had already collected\n",
      "Information for user 2847958116 had already collected\n",
      "Information for user 84909370 had already collected\n",
      "Information for user 392579325 had already collected\n",
      "Information for user 1491224984 had already collected\n",
      "Information for user 454189198 had already collected\n",
      "Information for user 859643052 had already collected\n",
      "Information for user 3004713411 had already collected\n",
      "Information for user 3231382825 had already collected\n",
      "Information for user 317074915 had already collected\n",
      "Information for user 377578563 had already collected\n",
      "Information for user 357674179 had already collected\n",
      "Information for user 757849337955180544 had already collected\n",
      "Information for user 32499271 had already collected\n",
      "Information for user 2881137610 had already collected\n",
      "Information for user 14146356 had already collected\n",
      "Information for user 23563560 had already collected\n",
      "Information for user 3466002195 had already collected\n",
      "Information for user 1715803561 had already collected\n",
      "Information for user 741228795466768384 had already collected\n",
      "Information for user 17589158 had already collected\n",
      "Information for user 863004894 had already collected\n",
      "Information for user 196728663 had already collected\n",
      "Information for user 28027426 had already collected\n",
      "Information for user 392904239 had already collected\n",
      "Information for user 145739275 had already collected\n",
      "Information for user 600761826 had already collected\n",
      "Information for user 298982890 had already collected\n",
      "Information for user 3255049069 had already collected\n",
      "Information for user 436740696 had already collected\n",
      "Information for user 752347799623196674 had already collected\n",
      "Information for user 2593236660 had already collected\n",
      "Information for user 4882314680 had already collected\n",
      "Information for user 253363609 had already collected\n",
      "Information for user 16280507 had already collected\n",
      "Information for user 1339229832 had already collected\n",
      "Information for user 2179534140 had already collected\n",
      "Information for user 724950499536019456 had already collected\n",
      "Information for user 710613745374920705 had already collected\n",
      "Information for user 2516724463 had already collected\n",
      "Information for user 19078594 had already collected\n",
      "Information for user 286626183 had already collected\n",
      "Information for user 274768374 had already collected\n",
      "Information for user 521810110 had already collected\n",
      "Information for user 564775361 had already collected\n",
      "Information for user 44481763 had already collected\n",
      "Information for user 301607114 had already collected\n",
      "Information for user 760201676187918336 had already collected\n",
      "Information for user 16675438 had already collected\n",
      "Information for user 701264676 had already collected\n",
      "Information for user 1313934584 had already collected\n",
      "Information for user 2326301849 had already collected\n",
      "Information for user 30714301 had already collected\n",
      "Information for user 769649548604084227 had already collected\n",
      "Information for user 251011762 had already collected\n",
      "Information for user 725850449765535745 had already collected\n",
      "Information for user 750460140604665856 had already collected\n",
      "Information for user 4860375540 had already collected\n",
      "Information for user 717875016667258880 had already collected\n",
      "Information for user 6755322 had already collected\n",
      "Information for user 42597573 had already collected\n",
      "Information for user 528984189 had already collected\n",
      "Information for user 4824442102 had already collected\n",
      "Information for user 4032966483 had already collected\n",
      "Information for user 2702449304 had already collected\n",
      "Information for user 240655988 had already collected\n",
      "Information for user 1681182696 had already collected\n",
      "Information for user 254712855 had already collected\n",
      "Information for user 235005003 had already collected\n",
      "Information for user 408519846 had already collected\n",
      "Information for user 506460264 had already collected\n",
      "Information for user 17068636 had already collected\n",
      "Information for user 28372736 had already collected\n",
      "Information for user 6335572 had already collected\n",
      "Information for user 33387382 had already collected\n",
      "Information for user 523907371 had already collected\n",
      "Information for user 707221196992020480 had already collected\n",
      "Information for user 45506413 had already collected\n",
      "Information for user 86656757 had already collected\n",
      "Information for user 312282367 had already collected\n",
      "Information for user 2461141921 had already collected\n",
      "Information for user 762872863 had already collected\n",
      "Information for user 541334839 had already collected\n",
      "Information for user 214356248 had already collected\n",
      "Information for user 363309009 had already collected\n",
      "Information for user 752621591209488385 had already collected\n",
      "Information for user 939543931 had already collected\n",
      "Information for user 15459746 had already collected\n",
      "Information for user 1318931731 had already collected\n",
      "Information for user 3065516115 had already collected\n",
      "Information for user 20179598 had already collected\n",
      "Information for user 2557992329 had already collected\n",
      "Information for user 750798507187941376 had already collected\n",
      "Information for user 1801037154 had already collected\n",
      "Information for user 517509150 had already collected\n",
      "Information for user 128099263 had already collected\n",
      "Information for user 228686398 had already collected\n",
      "Information for user 4100826221 had already collected\n",
      "Information for user 117560722 had already collected\n",
      "Information for user 1908456235 had already collected\n",
      "Information for user 3368114369 had already collected\n",
      "Information for user 743232499069886464 had already collected\n",
      "Information for user 482334246 had already collected\n",
      "Information for user 552316727 had already collected\n",
      "Information for user 4719090552 had already collected\n",
      "Information for user 911518862 had already collected\n",
      "Information for user 2989686880 had already collected\n",
      "Information for user 706954713 had already collected\n",
      "Information for user 19264069 had already collected\n",
      "Information for user 16624549 had already collected\n",
      "Information for user 981565406 had already collected\n",
      "Information for user 45295692 had already collected\n",
      "Information for user 757070187275231232 had already collected\n",
      "Information for user 169604722 had already collected\n",
      "Information for user 261306858 had already collected\n",
      "Information for user 769149124360937472 had already collected\n",
      "Information for user 2928711967 had already collected\n",
      "Information for user 3374673945 had already collected\n",
      "Information for user 18423141 had already collected\n",
      "Information for user 2409729842 had already collected\n",
      "Information for user 717136610517655552 had already collected\n",
      "Information for user 2837893122 had already collected\n",
      "Information for user 54653082 had already collected\n",
      "Information for user 2973997244 had already collected\n",
      "Information for user 16276186 had already collected\n",
      "Information for user 205396981 had already collected\n",
      "Information for user 3311663485 had already collected\n",
      "Information for user 741027626211549184 had already collected\n",
      "Information for user 2883128790 had already collected\n",
      "Information for user 55787027 had already collected\n",
      "Information for user 17689843 had already collected\n",
      "Information for user 1021139648 had already collected\n",
      "Information for user 2605287897 had already collected\n",
      "Information for user 256363443 had already collected\n",
      "Information for user 2356962151 had already collected\n",
      "Information for user 179665810 had already collected\n",
      "Information for user 107236390 had already collected\n",
      "Information for user 2831337577 had already collected\n",
      "Information for user 840430194 had already collected\n",
      "Information for user 446413281 had already collected\n",
      "Information for user 19739420 had already collected\n",
      "Information for user 729080067817615360 had already collected\n",
      "Information for user 485272452 had already collected\n",
      "Information for user 2782626491 had already collected\n",
      "Information for user 241395137 had already collected\n",
      "Information for user 112520214 had already collected\n",
      "Information for user 32947456 had already collected\n",
      "Information for user 2735876188 had already collected\n",
      "Information for user 2597132532 had already collected\n",
      "Information for user 43438089 had already collected\n",
      "Information for user 67031019 had already collected\n",
      "Information for user 459379674 had already collected\n",
      "Information for user 723516845425184769 had already collected\n",
      "Information for user 734632509326151682 had already collected\n",
      "Information for user 345062584 had already collected\n",
      "Information for user 26179029 had already collected\n",
      "Information for user 726635229226524672 had already collected\n",
      "Information for user 471747935 had already collected\n",
      "Information for user 764429523769106432 had already collected\n",
      "Information for user 371337165 had already collected\n",
      "Information for user 746633618345201664 had already collected\n",
      "Information for user 3415253711 had already collected\n",
      "Information for user 1646692903 had already collected\n",
      "Information for user 870510614 had already collected\n",
      "Information for user 95235772 had already collected\n",
      "Information for user 596117217 had already collected\n",
      "Information for user 548249031 had already collected\n",
      "Information for user 124730134 had already collected\n",
      "Information for user 32043963 had already collected\n",
      "Information for user 484476168 had already collected\n",
      "Information for user 966386515 had already collected\n",
      "Information for user 715960297593376768 had already collected\n",
      "Information for user 730900240149045248 had already collected\n",
      "Information for user 62305817 had already collected\n",
      "Information for user 2962194475 had already collected\n",
      "Information for user 1467783212 had already collected\n",
      "Information for user 4249177700 had already collected\n",
      "Information for user 3198016616 had already collected\n",
      "Information for user 2236299002 had already collected\n",
      "Information for user 1642106527 had already collected\n",
      "Information for user 129752995 had already collected\n",
      "Information for user 1353877376 had already collected\n",
      "Information for user 16063972 had already collected\n",
      "Information for user 2380025412 had already collected\n",
      "Information for user 2350402320 had already collected\n",
      "Information for user 65363823 had already collected\n",
      "Information for user 3688304901 had already collected\n",
      "Information for user 422279039 had already collected\n",
      "Information for user 966020486 had already collected\n",
      "Information for user 965512627 had already collected\n",
      "Information for user 1254436736 had already collected\n",
      "Information for user 3000736965 had already collected\n",
      "Information for user 741006180093440001 had already collected\n",
      "Information for user 385204671 had already collected\n",
      "Information for user 633271091 had already collected\n",
      "Information for user 769588045859459073 had already collected\n",
      "Information for user 14747394 had already collected\n",
      "Collecting info for user 730570399939973120 ... Done\n",
      "Collecting info for user 392969317 ... Done\n",
      "Collecting info for user 2353822818 ... Done\n",
      "Collecting info for user 863949348 ... Done\n",
      "Collecting info for user 22378806 ... Done\n",
      "Collecting info for user 3730977862 ... Done\n",
      "Collecting info for user 17276219 ... Done\n",
      "Collecting info for user 15630920 ... Done\n",
      "Collecting info for user 2578875530 ... Done\n",
      "Collecting info for user 67484867 ... Done\n",
      "Collecting info for user 15142804 ... Done\n",
      "Collecting info for user 764455186601504769 ... Done\n",
      "Collecting info for user 4712071932 ... Done\n",
      "Collecting info for user 904072386 ..."
     ]
    },
    {
     "name": "stderr",
     "output_type": "stream",
     "text": [
      "User is unathorized\n"
     ]
    },
    {
     "name": "stdout",
     "output_type": "stream",
     "text": [
      " Done\n",
      "Collecting info for user 147852554 ... Done\n",
      "Saving intermediate results ... Done\n",
      "Collecting info for user 1363651039 ... Done\n",
      "Collecting info for user 16282693 ... Done\n",
      "Collecting info for user 138093239 ... Done\n",
      "Collecting info for user 119119142 ..."
     ]
    },
    {
     "name": "stderr",
     "output_type": "stream",
     "text": [
      "User is unathorized\n"
     ]
    },
    {
     "name": "stdout",
     "output_type": "stream",
     "text": [
      " Done\n",
      "Collecting info for user 329897342 ... Done\n",
      "Collecting info for user 738238064779272192 ... Done\n",
      "Collecting info for user 52203579 ... Done\n",
      "Collecting info for user 42426688 ... Done\n",
      "Collecting info for user 1557723937 ... Done\n",
      "Collecting info for user 1582255662 ... Done\n",
      "Collecting info for user 973704955 ... Done\n",
      "Collecting info for user 121606839 ..."
     ]
    },
    {
     "name": "stderr",
     "output_type": "stream",
     "text": [
      "User is unathorized\n"
     ]
    },
    {
     "name": "stdout",
     "output_type": "stream",
     "text": [
      " Done\n",
      "Collecting info for user 20280591 ... Done\n",
      "Collecting info for user 735409626297012224 ... Done\n",
      "Collecting info for user 29837593 ... Done\n",
      "Saving intermediate results ... Done\n",
      "Collecting info for user 1622658864 ..."
     ]
    },
    {
     "name": "stderr",
     "output_type": "stream",
     "text": [
      "User is unathorized\n"
     ]
    },
    {
     "name": "stdout",
     "output_type": "stream",
     "text": [
      " Done\n",
      "Collecting info for user 1367666652 ... Done\n",
      "Collecting info for user 3258538129 ... Done\n",
      "Collecting info for user 203751233 ... Done\n",
      "Collecting info for user 37232932 ... Done\n",
      "Collecting info for user 173772400 ... Done\n",
      "Collecting info for user 515326848 ... Done\n",
      "Collecting info for user 40434781 ... Done\n",
      "Collecting info for user 3310269630 ... Done\n",
      "Collecting info for user 2726537421 ... Done\n",
      "Collecting info for user 1215350906 ... Done\n",
      "Collecting info for user 28174444 ... Done\n",
      "Collecting info for user 429724961 ... Done\n",
      "Collecting info for user 554264674 ... Done\n",
      "Collecting info for user 80308520 ..."
     ]
    }
   ],
   "source": [
    "\n",
    "\n",
    "\n",
    "TRAINING_SET_URL = \"train.csv\"\n",
    "EXAMPLE_SET_URL = \"test.csv\"\n",
    "df_users_train = pd.read_csv(TRAINING_SET_URL, sep=\",\", header=0, names=[\"uid\", \"cat\"])\n",
    "df_users_ex = pd.read_csv(EXAMPLE_SET_URL, sep=\",\", header=0, names=[\"uid\"])\n",
    "df_users_ex['cat'] = None\n",
    "df_users = pd.concat([df_users_train, df_users_ex])\n",
    "\n",
    "\n",
    "users, users_tokens = collect_users_tokens(df_users)\n",
    "v = DictVectorizer()\n",
    "vs = v.fit_transform(users_tokens)"
   ]
  },
  {
   "cell_type": "raw",
   "metadata": {},
   "source": [
    "Сохраним полученные данные в файл. Используется метод savez из numpy. "
   ]
  },
  {
   "cell_type": "code",
   "execution_count": 76,
   "metadata": {
    "collapsed": false
   },
   "outputs": [
    {
     "ename": "NameError",
     "evalue": "name 'vs' is not defined",
     "output_type": "error",
     "traceback": [
      "\u001b[0;31m---------------------------------------------------------------------------\u001b[0m",
      "\u001b[0;31mNameError\u001b[0m                                 Traceback (most recent call last)",
      "\u001b[0;32m<ipython-input-76-e8c4ee61ef35>\u001b[0m in \u001b[0;36m<module>\u001b[0;34m()\u001b[0m\n\u001b[1;32m      1\u001b[0m \u001b[0;32mimport\u001b[0m \u001b[0mnumpy\u001b[0m \u001b[0;32mas\u001b[0m \u001b[0mnp\u001b[0m\u001b[0;34m\u001b[0m\u001b[0m\n\u001b[0;32m----> 2\u001b[0;31m \u001b[0mnp\u001b[0m\u001b[0;34m.\u001b[0m\u001b[0msavez\u001b[0m\u001b[0;34m(\u001b[0m\u001b[0;34m\"files/out_4.dat\"\u001b[0m\u001b[0;34m,\u001b[0m \u001b[0mdata\u001b[0m\u001b[0;34m=\u001b[0m\u001b[0mvs\u001b[0m\u001b[0;34m,\u001b[0m \u001b[0musers\u001b[0m\u001b[0;34m=\u001b[0m\u001b[0musers\u001b[0m\u001b[0;34m,\u001b[0m \u001b[0musers_tokens\u001b[0m\u001b[0;34m=\u001b[0m\u001b[0musers_tokens\u001b[0m \u001b[0;34m)\u001b[0m\u001b[0;34m\u001b[0m\u001b[0m\n\u001b[0m",
      "\u001b[0;31mNameError\u001b[0m: name 'vs' is not defined"
     ]
    }
   ],
   "source": [
    "import numpy as np\n",
    "np.savez(\"files/out_4.dat\", data=vs, users=users, users_tokens=users_tokens )"
   ]
  },
  {
   "cell_type": "markdown",
   "metadata": {},
   "source": [
    "Далее для получения представления о полученной информацию о токенах предлагается отобразить ее в виде облака тэгов. [Подсказка](http://anokhin.github.io/img/tag_cloud.png). "
   ]
  },
  {
   "cell_type": "code",
   "execution_count": 77,
   "metadata": {
    "collapsed": false
   },
   "outputs": [],
   "source": [
    "from os import path\n",
    "\n",
    "def draw_tag_cloud(v, vs):\n",
    "    tokens = v.get_feature_names()\n",
    "    freq = np.sum(vs, axis = 0, keepdims = False)\n",
    "    freq = np.array(freq)[0]\n",
    "    mask = imread(\"cat_mask.jpg\")\n",
    "    pos = np.argpartition(freq, -100)[-100:]\n",
    "    wc = WordCloud(max_words=200, relative_scaling = 0.5, mask = mask)\n",
    "    freqtuple = [(tokens[i], freq[i]) for i in pos]\n",
    "    wc.generate_from_frequencies(freqtuple)\n",
    "    plt.imshow(wc)\n",
    "    plt.axis(\"off\")\n",
    "    plt.show()\n",
    "    return"
   ]
  },
  {
   "cell_type": "code",
   "execution_count": null,
   "metadata": {
    "collapsed": false
   },
   "outputs": [],
   "source": [
    "draw_tag_cloud(v, vs)\n"
   ]
  },
  {
   "cell_type": "code",
   "execution_count": null,
   "metadata": {
    "collapsed": true
   },
   "outputs": [],
   "source": []
  },
  {
   "cell_type": "code",
   "execution_count": null,
   "metadata": {
    "collapsed": true
   },
   "outputs": [],
   "source": []
  }
 ],
 "metadata": {
  "anaconda-cloud": {},
  "kernelspec": {
   "display_name": "Python [default]",
   "language": "python",
   "name": "python2"
  },
  "language_info": {
   "codemirror_mode": {
    "name": "ipython",
    "version": 2
   },
   "file_extension": ".py",
   "mimetype": "text/x-python",
   "name": "python",
   "nbconvert_exporter": "python",
   "pygments_lexer": "ipython2",
   "version": "2.7.12"
  }
 },
 "nbformat": 4,
 "nbformat_minor": 0
}
